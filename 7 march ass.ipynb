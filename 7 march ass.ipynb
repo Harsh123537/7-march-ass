{
 "cells": [
  {
   "cell_type": "markdown",
   "id": "4880ca4e-2de9-427f-8d23-f79c7e49d7d7",
   "metadata": {},
   "source": [
    "Q1. What are the three measures of central tendency?"
   ]
  },
  {
   "cell_type": "markdown",
   "id": "bd2f7fc0-64c3-4531-b336-8d091e4305f9",
   "metadata": {},
   "source": [
    "The three measures of central tendency are:\n",
    "\n",
    "Mean: The mean, also known as the average, is calculated by summing up all the values in a dataset and dividing the sum by the total number of values. It is often denoted by the symbol \"μ\" for the population mean and \"x̄\" (pronounced x-bar) for the sample mean.\n",
    "\n",
    "Median: The median is the middle value in a dataset when it is arranged in ascending or descending order. If there is an even number of values, the median is the average of the two middle values. The median represents the value that separates the lower 50% of the dataset from the upper 50%.\n",
    "\n",
    "Mode: The mode is the value or values that appear most frequently in a dataset. Unlike the mean and median, the mode is not affected by outliers and can be used for both numerical and categorical data. A dataset can have no mode (when all values occur with the same frequency) or multiple modes (when multiple values occur with the same highest frequency)."
   ]
  },
  {
   "cell_type": "markdown",
   "id": "0bef887f-2ad3-4e84-8bc4-cbdadc629adf",
   "metadata": {},
   "source": [
    "Q2. What is the difference between the mean, median, and mode? How are they used to measure the\n",
    "central tendency of a dataset?"
   ]
  },
  {
   "cell_type": "markdown",
   "id": "5fa782b2-b4cc-4235-8569-a113d981fdb0",
   "metadata": {},
   "source": [
    "The mean, median, and mode are different measures of central tendency that help summarize the distribution of a dataset. Here's a breakdown of their differences and how they are used:\n",
    "\n",
    "Mean: The mean is calculated by summing up all the values in a dataset and dividing the sum by the total number of values. It is influenced by extreme values, making it sensitive to outliers. The mean is commonly used when the data is numeric and follows a roughly symmetrical distribution. It provides an average value that represents the central tendency of the dataset.\n",
    "\n",
    "Median: The median is the middle value in a dataset when the values are arranged in ascending or descending order. If there is an even number of values, the median is the average of the two middle values. Unlike the mean, the median is not influenced by extreme values, making it more robust to outliers. The median is useful when the data contains outliers or when the distribution is skewed (asymmetric).\n",
    "\n",
    "Mode: The mode is the value or values that occur most frequently in a dataset. Unlike the mean and median, the mode can be used with categorical data as well. It is not affected by extreme values and is especially useful for identifying the most common category or value in a dataset. A dataset can have no mode (when all values occur with the same frequency) or multiple modes (when multiple values occur with the same highest frequency)."
   ]
  },
  {
   "cell_type": "markdown",
   "id": "7c65cd18-3fec-474c-89b8-c3404d4e4d8a",
   "metadata": {},
   "source": [
    "Q3. Measure the three measures of central tendency for the given height data:\n",
    "[178,177,176,177,178.2,178,175,179,180,175,178.9,176.2,177,172.5,178,176.5]/"
   ]
  },
  {
   "cell_type": "code",
   "execution_count": 8,
   "id": "2aee6db6-e765-4718-9d17-f9e7a1a06b1e",
   "metadata": {},
   "outputs": [
    {
     "name": "stdout",
     "output_type": "stream",
     "text": [
      "177.01875\n",
      "ModeResult(mode=array([177.]), count=array([3]))\n",
      "177.0\n"
     ]
    },
    {
     "name": "stderr",
     "output_type": "stream",
     "text": [
      "/tmp/ipykernel_77/553105495.py:6: FutureWarning: Unlike other reduction functions (e.g. `skew`, `kurtosis`), the default behavior of `mode` typically preserves the axis it acts along. In SciPy 1.11.0, this behavior will change: the default value of `keepdims` will become False, the `axis` over which the statistic is taken will be eliminated, and the value None will no longer be accepted. Set `keepdims` to True or False to avoid this warning.\n",
      "  print(st.mode(array))\n"
     ]
    }
   ],
   "source": [
    "import numpy as np\n",
    "from scipy import stats as st\n",
    "l=[178,177,176,177,178.2,178,175,179,180,175,178.9,176.2,177,172.5,178,176.5]\n",
    "array=np.array(l)\n",
    "print(array.mean())\n",
    "print(st.mode(array))\n",
    "print(np.median(array))"
   ]
  },
  {
   "cell_type": "markdown",
   "id": "7e239d8a-3ae6-45a3-9bbd-fc3cca75d6df",
   "metadata": {},
   "source": [
    "Q4. Find the standard deviation for the given data:\n",
    "[178,177,176,177,178.2,178,175,179,180,175,178.9,176.2,177,172.5,178,176.5]"
   ]
  },
  {
   "cell_type": "code",
   "execution_count": 9,
   "id": "23f09009-074a-4c3d-896a-42ae1a9c73e1",
   "metadata": {},
   "outputs": [
    {
     "name": "stdout",
     "output_type": "stream",
     "text": [
      "1.7885814036548633\n"
     ]
    }
   ],
   "source": [
    "l=[178,177,176,177,178.2,178,175,179,180,175,178.9,176.2,177,172.5,178,176.5]\n",
    "array=np.array(l)\n",
    "print(np.std(array))"
   ]
  },
  {
   "cell_type": "markdown",
   "id": "0d7b6685-3a37-4e55-a391-43e5b7cb5adb",
   "metadata": {},
   "source": [
    "Q5. How are measures of dispersion such as range, variance, and standard deviation used to describe\n",
    "the spread of a dataset? Provide an example."
   ]
  },
  {
   "cell_type": "markdown",
   "id": "09fbd9b8-5221-43a4-86cd-fd9e6e7bd249",
   "metadata": {},
   "source": [
    "Measures of dispersion, such as range, variance, and standard deviation, are used to quantify the spread or variability of a dataset. Here's how they are used and an example:\n",
    "\n",
    "Range: The range represents the difference between the maximum and minimum values in a dataset. It provides a simple measure of the spread by capturing the total span of the data. However, it only considers the extreme values and doesn't account for the distribution of values in between.\n",
    "\n",
    "Variance: The variance measures the average squared deviation of each data point from the mean. It calculates the dispersion by considering the differences between each value and the mean of the dataset. A higher variance indicates a greater spread, while a lower variance suggests that the data points are closer to the mean.\n",
    "\n",
    "Standard Deviation: The standard deviation is the square root of the variance. It represents the typical or average deviation of each data point from the mean. Like variance, a higher standard deviation implies a larger spread, while a lower standard deviation indicates that the data points are closer to the mean.\n",
    "\n",
    "Example:\n",
    "Let's say we have a dataset representing the daily temperatures (in degrees Celsius) in a city for a week: [25, 26, 23, 24, 27, 22, 25].\n",
    "\n",
    "Range: The range is calculated by subtracting the minimum value (22) from the maximum value (27), resulting in a range of 5 degrees.\n",
    "\n",
    "Variance: To calculate the variance, we first find the mean of the dataset (24.57). Then, we find the squared difference between each value and the mean, sum them up, and divide by the total number of values. The variance of the dataset is approximately 1.95.\n",
    "\n",
    "Standard Deviation: The standard deviation is the square root of the variance. In this case, the standard deviation is approximately 1.40 degrees."
   ]
  },
  {
   "cell_type": "markdown",
   "id": "45b44ac6-d0c9-4606-b1eb-661c412cc440",
   "metadata": {},
   "source": [
    "Q6. What is a Venn diagram?"
   ]
  },
  {
   "cell_type": "markdown",
   "id": "56d680d7-70ba-48d9-a700-c3ec910785fb",
   "metadata": {},
   "source": [
    "A Venn diagram is a graphical representation used to illustrate the relationships and commonalities between different sets or groups of objects or concepts. It consists of overlapping circles or other shapes that represent the sets being compared."
   ]
  },
  {
   "cell_type": "markdown",
   "id": "d3798995-5fb9-47eb-bd3e-ea4f4718ec2f",
   "metadata": {},
   "source": [
    "Q7. For the two given sets A = (2,3,4,5,6,7) & B = (0,2,6,8,10). Find:\n",
    "(i) A B\n",
    "(ii) A ⋃ B"
   ]
  },
  {
   "cell_type": "code",
   "execution_count": 10,
   "id": "910b5287-0407-4e16-a71c-897fb24ec817",
   "metadata": {},
   "outputs": [
    {
     "name": "stdout",
     "output_type": "stream",
     "text": [
      "{0, 2, 3, 4, 5, 6, 7, 8, 10}\n",
      "{2, 6}\n"
     ]
    }
   ],
   "source": [
    "a={2,3,4,5,6,7}\n",
    "b={0,2,6,8,10}\n",
    "print(a.union(b))\n",
    "print(a.intersection(b))\n"
   ]
  },
  {
   "cell_type": "markdown",
   "id": "16f675de-2d7b-4f7c-89cd-3ac336bca6fe",
   "metadata": {},
   "source": [
    "Q8. What do you understand about skewness in data?"
   ]
  },
  {
   "cell_type": "markdown",
   "id": "8ffa7165-7fe7-452d-af8d-99d9bd00521e",
   "metadata": {},
   "source": [
    "Skewness in data refers to the measure of asymmetry or lack of symmetry in the distribution of values. It quantifies the extent to which a dataset deviates from a symmetrical or bell-shaped distribution."
   ]
  },
  {
   "cell_type": "markdown",
   "id": "a40f69e0-c295-46aa-83f9-3342a19e5128",
   "metadata": {},
   "source": [
    "Q9. If a data is right skewed then what will be the position of median with respect to mean?"
   ]
  },
  {
   "cell_type": "markdown",
   "id": "d1ed2600-c89f-4675-89b2-4d253a42c957",
   "metadata": {},
   "source": [
    "median will be left to the mean"
   ]
  },
  {
   "cell_type": "markdown",
   "id": "545758f3-60f5-4b3d-a63f-5890f880cef4",
   "metadata": {},
   "source": [
    "Q10. Explain the difference between covariance and correlation. How are these measures used in\n",
    "statistical analysis?"
   ]
  },
  {
   "cell_type": "markdown",
   "id": "d34ce036-bf6b-4b9f-9972-73cdf5bf389a",
   "metadata": {},
   "source": [
    "Covariance:\n",
    "\n",
    "Covariance measures the direction and magnitude of the linear relationship between two variables. It shows how changes in one variable are associated with changes in another variable. The covariance can take positive, negative, or zero values.\n",
    "\n",
    "Correlation:\n",
    "Correlation measures the strength and direction of the linear relationship between two variables. It is a standardized measure that ranges between -1 and 1, making it easier to interpret and compare."
   ]
  },
  {
   "cell_type": "markdown",
   "id": "ba3a065e-7a7b-4fe0-bb5c-7c7d59504c7f",
   "metadata": {},
   "source": [
    "Q11. What is the formula for calculating the sample mean? Provide an example calculation for a\n",
    "dataset."
   ]
  },
  {
   "cell_type": "markdown",
   "id": "e8de9bb1-e1de-4681-bba3-1650aa3f1d6b",
   "metadata": {},
   "source": [
    "The formula for calculating the sample mean, denoted by \"x̄\" (pronounced x-bar), is as follows:\n",
    "\n",
    "x̄ = (x₁ + x₂ + x₃ + ... + xn) / n\n",
    "\n",
    "where x₁, x₂, x₃, ..., xn are the individual values in the dataset, and n is the total number of values in the dataset.\n",
    "\n",
    "Here's an example calculation of the sample mean for a dataset:\n",
    "\n",
    "Dataset: [12, 15, 18, 21, 24]\n",
    "\n",
    "To calculate the sample mean, we sum up all the values and divide by the number of values:\n",
    "\n",
    "x̄ = (12 + 15 + 18 + 21 + 24) / 5\n",
    "= 90 / 5\n",
    "= 18\n",
    "\n",
    "Therefore, the sample mean of the dataset [12, 15, 18, 21, 24] is 18.\n",
    "\n",
    "\n",
    "\n",
    "\n"
   ]
  },
  {
   "cell_type": "markdown",
   "id": "8f93abe1-245f-46fa-8c3f-4199a693950d",
   "metadata": {},
   "source": [
    "Q12. For a normal distribution data what is the relationship between its measure of central tendency?"
   ]
  },
  {
   "cell_type": "markdown",
   "id": "d2c3dc0c-5b5d-44e1-85dc-cba17f427333",
   "metadata": {},
   "source": [
    "mean=median=mode"
   ]
  },
  {
   "cell_type": "markdown",
   "id": "f3e34509-1680-4240-9137-456a0fab3ee9",
   "metadata": {},
   "source": [
    "Q13. How is covariance different from correlation?"
   ]
  },
  {
   "cell_type": "markdown",
   "id": "86ab9c86-6ae9-4cf8-895e-92ebab7a468c",
   "metadata": {},
   "source": [
    "Covariance:\n",
    "\n",
    "Covariance measures the direction and magnitude of the linear relationship between two variables. It shows how changes in one variable are associated with changes in another variable. The covariance can take positive, negative, or zero values.\n",
    "\n",
    "Correlation: Correlation measures the strength and direction of the linear relationship between two variables. It is a standardized measure that ranges between -1 and 1, making it easier to interpret and compare."
   ]
  },
  {
   "cell_type": "markdown",
   "id": "53c6f94f-bb85-481f-8e57-e420251c7597",
   "metadata": {},
   "source": [
    "Q14. How do outliers affect measures of central tendency and dispersion? Provide an example."
   ]
  },
  {
   "cell_type": "markdown",
   "id": "63ed2c13-af43-4256-955d-6f3ea3d1a06c",
   "metadata": {},
   "source": [
    "Outliers are extreme values that differ significantly from the majority of the values in a dataset. They can have a significant impact on measures of central tendency and dispersion.\n",
    "\n",
    "Measures of central tendency:\n",
    "Outliers can greatly affect the measures of central tendency like mean, median, and mode. If an outlier is present in a dataset, it can skew the mean in the direction of the outlier, making it an unreliable measure of the center. The median can be less affected by the outlier, but it still may not accurately represent the center of the data if the outlier is far from the other values. The mode, however, is generally not affected by outliers, as it represents the most frequent value(s) in the dataset.\n",
    "For example, let's consider a dataset of the ages of a group of people: 22, 25, 27, 29, 32, 33, 35, 38, 41, and 102. Here, 102 is an outlier as it is significantly larger than the other values in the dataset. The mean age of this group would be heavily skewed towards the outlier, making it an unreliable measure of the central tendency. The median age, on the other hand, would be less affected by the outlier, as it would be the middle value after sorting the dataset, which is 32.\n",
    "\n",
    "Measures of dispersion:\n",
    "Outliers can also affect measures of dispersion like range, variance, and standard deviation. The presence of an outlier can result in a wider range, higher variance, and larger standard deviation, making it difficult to understand the spread of the data.\n",
    "For example, let's consider the dataset of test scores for a class of students: 45, 57, 60, 62, 64, 67, 70, 71, 73, and 100. The outlier value of 100 can cause the range to be larger, and the variance and standard deviation to be higher, indicating more spread in the dataset. The standard deviation would be a less reliable measure of the spread of the data in this case due to the presence of the outlier value."
   ]
  },
  {
   "cell_type": "code",
   "execution_count": null,
   "id": "ca8399ae-d3bc-494e-83ca-4fbe67752269",
   "metadata": {},
   "outputs": [],
   "source": []
  }
 ],
 "metadata": {
  "kernelspec": {
   "display_name": "Python 3 (ipykernel)",
   "language": "python",
   "name": "python3"
  },
  "language_info": {
   "codemirror_mode": {
    "name": "ipython",
    "version": 3
   },
   "file_extension": ".py",
   "mimetype": "text/x-python",
   "name": "python",
   "nbconvert_exporter": "python",
   "pygments_lexer": "ipython3",
   "version": "3.10.8"
  }
 },
 "nbformat": 4,
 "nbformat_minor": 5
}
